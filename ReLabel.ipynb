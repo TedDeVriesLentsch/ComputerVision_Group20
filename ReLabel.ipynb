{
 "cells": [
  {
   "cell_type": "markdown",
   "metadata": {
    "cell_id": "00000-ba3fffdc-f05e-483b-ad2a-106f2f246f05"
   },
   "source": [
    "# Project - Seminar Computer Vision by Deep Learning (CS4245) 2020/2021\n",
    "\n",
    "Group Number: 20\n",
    "\n",
    "Student 1: Stan Zwinkels\n",
    "\n",
    "Student 2: Ted de Vries Lentsch\n",
    "\n",
    "Date: June 14, 2021"
   ]
  },
  {
   "cell_type": "markdown",
   "metadata": {},
   "source": [
    "## Instruction"
   ]
  },
  {
   "cell_type": "markdown",
   "metadata": {},
   "source": [
    "For correct functioning of this notebook, the dataset [morado_5may](https://www.kaggle.com/teddevrieslentsch/morado-5may) must be in the same directory as this notebook."
   ]
  },
  {
   "cell_type": "markdown",
   "metadata": {},
   "source": [
    "## Import necessary libraries"
   ]
  },
  {
   "cell_type": "code",
   "execution_count": null,
   "metadata": {},
   "outputs": [],
   "source": [
    "# standard libraries\n",
    "import glob\n",
    "import matplotlib.pyplot as plt\n",
    "import numpy as np\n",
    "import os\n",
    "import pandas as pd\n",
    "import shutil\n",
    "import time\n",
    "\n",
    "# widgets\n",
    "from IPython.display import display, clear_output\n",
    "import ipywidgets"
   ]
  },
  {
   "cell_type": "markdown",
   "metadata": {},
   "source": [
    "## Relabel"
   ]
  },
  {
   "cell_type": "markdown",
   "metadata": {},
   "source": [
    "Make folder with for the annotations with the new labels."
   ]
  },
  {
   "cell_type": "code",
   "execution_count": null,
   "metadata": {},
   "outputs": [],
   "source": [
    "root_path = 'morado_5may'\n",
    "relabel_path = '{}/annotations_relabel'.format(root_path)\n",
    "if os.path.isdir(relabel_path):\n",
    "    shutil.rmtree(relabel_path)\n",
    "    time.sleep(0.1)\n",
    "    os.makedirs(relabel_path)\n",
    "else:\n",
    "    os.makedirs(relabel_path)"
   ]
  },
  {
   "cell_type": "markdown",
   "metadata": {},
   "source": [
    "Below is the `ReLabelDataset` class for relabeling."
   ]
  },
  {
   "cell_type": "code",
   "execution_count": null,
   "metadata": {},
   "outputs": [],
   "source": [
    "class ReLabelDataset(object):\n",
    "    def __init__(self, root):\n",
    "        self.root       = root                                                          # directory to dataset\n",
    "        self.imgs       = list(sorted(os.listdir('{}/images'.format(root))))            # load images\n",
    "        self.annots     = list(sorted(os.listdir('{}/annotations'.format(root))))       # load annotations\n",
    "        self.classes    = ['background', 'raw', 'ripe']                                 # classes\n",
    "        self.idx        = 0                                                             # image/annotation index\n",
    "        self.idx_last   = -1                                                            # last image/annotation index  \n",
    "        self.row_number = -1                                                            # number of the current row\n",
    "        self.start      = True                                                          # initialize process\n",
    "        self.img        = None                                                          # image\n",
    "        self.annot      = None                                                          # annotation\n",
    "        self.done       = False                                                         # whether all images have been labeled \n",
    "\n",
    "    def plot_patch(self):\n",
    "        with out:\n",
    "            annot = self.annot.loc[self.row_number,0:4].to_numpy()\n",
    "            img   = self.img[int(annot[1]):(int(annot[3])+1),int(annot[0]):(int(annot[2])+1),:]   \n",
    "            \n",
    "            clear_output(True)\n",
    "            if not self.done:\n",
    "                plt.figure(figsize=(5, 5))\n",
    "                plt.imshow(img, zorder=-10)\n",
    "                plt.title('Old label: {}'.format(self.annot.loc[self.row_number, 4]))\n",
    "                plt.show()\n",
    "            else:\n",
    "                plt.figure()\n",
    "                plt.show()\n",
    "\n",
    "    def manage_ids(self):      \n",
    "        if self.row_number==len(self.annot)-1:\n",
    "            self.save_annot()\n",
    "            self.row_number = 0\n",
    "            self.idx_last = self.idx\n",
    "            self.idx += 1\n",
    "            if self.idx==len(self.imgs):\n",
    "                self.done = True\n",
    "        else:\n",
    "            self.idx_last = self.idx\n",
    "            self.row_number += 1\n",
    "\n",
    "    def get_data(self):\n",
    "        if self.idx!=self.idx_last:\n",
    "            img_path      = '{}/images/{}'.format(self.root, self.imgs[self.idx])                   \n",
    "            annot_path    = '{}/annotations/{}'.format(self.root, self.annots[self.idx])              \n",
    "            self.img      = np.rot90(plt.imread(img_path), -1)                             \n",
    "            self.annot    = pd.read_csv(annot_path, sep=',', header=None)   \n",
    "\n",
    "    def save_annot(self):\n",
    "        annot_re_path = '{}/annotations_relabel/{}'.format(self.root, self.annots[self.idx])\n",
    "        self.annot.sort_values(by=[4], inplace=True)\n",
    "        self.annot.reset_index(drop=True, inplace=True)\n",
    "        self.annot.to_csv(annot_re_path, index=0, header=0)\n",
    "        print('The file {} has been relabeled!'.format(self.annots[self.idx]))\n",
    "\n",
    "    def button_click_action(self, label):\n",
    "        if not self.done:\n",
    "            self.get_data()\n",
    "            if not self.start:\n",
    "                self.annot.at[self.row_number,4] = label\n",
    "            self.start = False\n",
    "            self.manage_ids()\n",
    "            self.plot_patch()        \n",
    "        \n",
    "    def left_button_click(self, click):\n",
    "        self.button_click_action('raw')\n",
    "\n",
    "    def right_button_click(self, click):\n",
    "        self.button_click_action('ripe')"
   ]
  },
  {
   "cell_type": "markdown",
   "metadata": {},
   "source": [
    "Below is the tool for relabeling. The process is started by clicking on one of the two buttons. The first annotation is then plotted. You can then indicate for each image to which class it belongs. If all the annotations for one image have been made, a new .csv file is saved in the `annotations_relabel` directory that was created above."
   ]
  },
  {
   "cell_type": "code",
   "execution_count": null,
   "metadata": {},
   "outputs": [],
   "source": [
    "%matplotlib inline"
   ]
  },
  {
   "cell_type": "code",
   "execution_count": null,
   "metadata": {
    "scrolled": false
   },
   "outputs": [],
   "source": [
    "relabeler = ReLabelDataset(root_path)\n",
    "\n",
    "# create buttons for the 2 classes\n",
    "button_left = ipywidgets.Button(description='Raw')\n",
    "button_right = ipywidgets.Button(description='Ripe')\n",
    "\n",
    "# assign functions to the press of the buttons\n",
    "button_left.on_click(relabeler.left_button_click)\n",
    "button_right.on_click(relabeler.right_button_click)\n",
    "\n",
    "# output window for the plot\n",
    "out = ipywidgets.Output()\n",
    "\n",
    "# widget\n",
    "ipywidgets.VBox([ipywidgets.HBox([button_left, button_right]), out])"
   ]
  }
 ],
 "metadata": {
  "deepnote_execution_queue": [],
  "deepnote_notebook_id": "f5946539-2167-425c-99b8-6ba911a23740",
  "kernelspec": {
   "display_name": "Python 3",
   "language": "python",
   "name": "python3"
  },
  "language_info": {
   "codemirror_mode": {
    "name": "ipython",
    "version": 3
   },
   "file_extension": ".py",
   "mimetype": "text/x-python",
   "name": "python",
   "nbconvert_exporter": "python",
   "pygments_lexer": "ipython3",
   "version": "3.8.6"
  }
 },
 "nbformat": 4,
 "nbformat_minor": 4
}
